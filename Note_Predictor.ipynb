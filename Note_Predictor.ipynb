{
  "cells": [
    {
      "cell_type": "code",
      "source": [],
      "metadata": {
        "id": "tG24ZJjs6l5_"
      },
      "id": "tG24ZJjs6l5_",
      "execution_count": null,
      "outputs": []
    },
    {
      "cell_type": "code",
      "source": [
        "from google.colab import drive\n",
        "drive.mount('/content/drive')"
      ],
      "metadata": {
        "colab": {
          "base_uri": "https://localhost:8080/"
        },
        "id": "jRLESOY26wR1",
        "outputId": "b744871e-99f7-416f-d86d-802fb8138422"
      },
      "id": "jRLESOY26wR1",
      "execution_count": null,
      "outputs": [
        {
          "output_type": "stream",
          "name": "stdout",
          "text": [
            "Mounted at /content/drive\n"
          ]
        }
      ]
    },
    {
      "cell_type": "code",
      "execution_count": null,
      "id": "339f1c78",
      "metadata": {
        "id": "339f1c78"
      },
      "outputs": [],
      "source": [
        "train_dir = \"/content/drive/MyDrive/money dataset/Indian currency dataset v1/training\"\n",
        "test_dir = \"/content/drive/MyDrive/money dataset/Indian currency dataset v1/test\"\n",
        "valid_dir = \"/content/drive/MyDrive/money dataset/Indian currency dataset v1/validation\""
      ]
    },
    {
      "cell_type": "code",
      "execution_count": null,
      "id": "b579bb0e",
      "metadata": {
        "id": "b579bb0e"
      },
      "outputs": [],
      "source": [
        "from keras.preprocessing.image import ImageDataGenerator"
      ]
    },
    {
      "cell_type": "code",
      "execution_count": null,
      "id": "aea8ed0b",
      "metadata": {
        "id": "aea8ed0b"
      },
      "outputs": [],
      "source": [
        "train_datagen =ImageDataGenerator(rescale = 1/255.) \n",
        "test_datagen = ImageDataGenerator(rescale = 1/255.)\n",
        "valid_datagen = ImageDataGenerator(rescale = 1/255.)"
      ]
    },
    {
      "cell_type": "code",
      "execution_count": null,
      "id": "96e56873",
      "metadata": {
        "colab": {
          "base_uri": "https://localhost:8080/"
        },
        "id": "96e56873",
        "outputId": "6ff3ce27-ccf0-400f-b8bc-db03c261ff02"
      },
      "outputs": [
        {
          "output_type": "stream",
          "name": "stdout",
          "text": [
            "Found 3566 images belonging to 8 classes.\n",
            "Found 345 images belonging to 8 classes.\n"
          ]
        }
      ],
      "source": [
        "train_data = train_datagen.flow_from_directory(train_dir,\n",
        "                                            target_size=(224,224), \n",
        "                                            color_mode='rgb', \n",
        "                                            batch_size=64, \n",
        "                                            class_mode='categorical', \n",
        "                                            subset='training',\n",
        "                                            shuffle=True,\n",
        "                                            seed=42\n",
        "                                            )\n",
        "valid_data = valid_datagen.flow_from_directory(valid_dir,\n",
        "                                            target_size=(224,224), \n",
        "                                            color_mode='rgb', \n",
        "                                            batch_size=64, \n",
        "                                            class_mode='categorical', \n",
        "                                            subset='training',\n",
        "                                            shuffle=True,\n",
        "                                            seed=42)\n",
        "\n"
      ]
    },
    {
      "cell_type": "code",
      "execution_count": null,
      "id": "26c173d5",
      "metadata": {
        "colab": {
          "base_uri": "https://localhost:8080/"
        },
        "id": "26c173d5",
        "outputId": "f4dafcdb-ca5f-4c9e-9e6a-3c88b5451fc2"
      },
      "outputs": [
        {
          "output_type": "stream",
          "name": "stdout",
          "text": [
            "Found 91 images belonging to 8 classes.\n"
          ]
        }
      ],
      "source": [
        "test_data = test_datagen.flow_from_directory(test_dir,\n",
        "                                            target_size=(224,224), \n",
        "                                            color_mode='rgb', \n",
        "                                            batch_size=64, \n",
        "                                            class_mode='categorical', \n",
        "                                            subset='training',\n",
        "                                            shuffle=True,\n",
        "                                            seed=42\n",
        "                                            )\n",
        "filenames = test_data.filenames"
      ]
    },
    {
      "cell_type": "code",
      "execution_count": null,
      "id": "7fd1310f",
      "metadata": {
        "id": "7fd1310f"
      },
      "outputs": [],
      "source": [
        "import tensorflow as tf\n",
        "from tensorflow.keras.models import Sequential\n",
        "from tensorflow .keras.layers import Conv2D, MaxPool2D , Dense, Activation,Flatten"
      ]
    },
    {
      "cell_type": "code",
      "execution_count": null,
      "id": "76c6d1a6",
      "metadata": {
        "id": "76c6d1a6"
      },
      "outputs": [],
      "source": [
        "model =Sequential([\n",
        "    Conv2D(10,3,activation=\"relu\"),\n",
        "    Conv2D(10,3,activation=\"relu\"),\n",
        "    MaxPool2D(),\n",
        "    Conv2D(10,3,activation=\"relu\"),\n",
        "    Conv2D(10,3,activation=\"relu\"),\n",
        "    MaxPool2D(),\n",
        "    Conv2D(10,3,activation=\"relu\"),\n",
        "    Conv2D(10,3,activation=\"relu\"),\n",
        "    MaxPool2D(),\n",
        "    Flatten(),\n",
        "    Dense(8,activation=\"softmax\")\n",
        "])\n",
        "model.compile(loss=\"categorical_crossentropy\",\n",
        "             optimizer= tf.keras.optimizers.Adam(),\n",
        "             metrics=[\"accuracy\"])\n"
      ]
    },
    {
      "cell_type": "code",
      "execution_count": null,
      "id": "52c3f7c9",
      "metadata": {
        "colab": {
          "base_uri": "https://localhost:8080/"
        },
        "id": "52c3f7c9",
        "outputId": "a809cb5b-9aec-4218-9a1b-0058bbc8220c"
      },
      "outputs": [
        {
          "output_type": "stream",
          "name": "stdout",
          "text": [
            "Epoch 1/15\n",
            "56/56 [==============================] - 2286s 41s/step - loss: 2.0489 - accuracy: 0.1674 - val_loss: 1.8761 - val_accuracy: 0.2261\n",
            "Epoch 2/15\n",
            "56/56 [==============================] - 279s 5s/step - loss: 1.6705 - accuracy: 0.3662 - val_loss: 1.4965 - val_accuracy: 0.4551\n",
            "Epoch 3/15\n",
            "56/56 [==============================] - 281s 5s/step - loss: 1.3476 - accuracy: 0.5115 - val_loss: 1.1949 - val_accuracy: 0.5681\n",
            "Epoch 4/15\n",
            "56/56 [==============================] - 285s 5s/step - loss: 1.1819 - accuracy: 0.5824 - val_loss: 1.0840 - val_accuracy: 0.6116\n",
            "Epoch 5/15\n",
            "56/56 [==============================] - 280s 5s/step - loss: 1.1194 - accuracy: 0.6161 - val_loss: 1.0889 - val_accuracy: 0.6145\n",
            "Epoch 6/15\n",
            "56/56 [==============================] - 283s 5s/step - loss: 0.9931 - accuracy: 0.6697 - val_loss: 0.9293 - val_accuracy: 0.6638\n",
            "Epoch 7/15\n",
            "56/56 [==============================] - 277s 5s/step - loss: 0.8598 - accuracy: 0.7151 - val_loss: 0.9091 - val_accuracy: 0.6899\n",
            "Epoch 8/15\n",
            "56/56 [==============================] - 270s 5s/step - loss: 0.7861 - accuracy: 0.7471 - val_loss: 0.9678 - val_accuracy: 0.7072\n",
            "Epoch 9/15\n",
            "56/56 [==============================] - 280s 5s/step - loss: 0.7320 - accuracy: 0.7611 - val_loss: 0.9713 - val_accuracy: 0.7043\n",
            "Epoch 10/15\n",
            "56/56 [==============================] - 279s 5s/step - loss: 0.6604 - accuracy: 0.7860 - val_loss: 0.9327 - val_accuracy: 0.6870\n",
            "Epoch 11/15\n",
            "56/56 [==============================] - 271s 5s/step - loss: 0.6157 - accuracy: 0.7883 - val_loss: 0.9572 - val_accuracy: 0.6783\n",
            "Epoch 12/15\n",
            "56/56 [==============================] - 275s 5s/step - loss: 0.5475 - accuracy: 0.8267 - val_loss: 0.9529 - val_accuracy: 0.7130\n",
            "Epoch 13/15\n",
            "56/56 [==============================] - 269s 5s/step - loss: 0.4926 - accuracy: 0.8365 - val_loss: 0.8099 - val_accuracy: 0.7333\n",
            "Epoch 14/15\n",
            "56/56 [==============================] - 274s 5s/step - loss: 0.4683 - accuracy: 0.8517 - val_loss: 0.9348 - val_accuracy: 0.7217\n",
            "Epoch 15/15\n",
            "56/56 [==============================] - 270s 5s/step - loss: 0.4019 - accuracy: 0.8682 - val_loss: 0.8925 - val_accuracy: 0.7594\n"
          ]
        },
        {
          "output_type": "execute_result",
          "data": {
            "text/plain": [
              "<keras.callbacks.History at 0x7fef43133fa0>"
            ]
          },
          "metadata": {},
          "execution_count": 9
        }
      ],
      "source": [
        "model.fit(train_data,\n",
        "          #steps_per_epoch=40,\n",
        "          epochs=15,\n",
        "          validation_data=(valid_data)\n",
        "          #validation_steps=10\n",
        "         )"
      ]
    },
    {
      "cell_type": "code",
      "execution_count": null,
      "id": "7d4aa443",
      "metadata": {
        "id": "7d4aa443",
        "colab": {
          "base_uri": "https://localhost:8080/"
        },
        "outputId": "c9162082-5f01-4130-a406-6a46b1df2052"
      },
      "outputs": [
        {
          "output_type": "stream",
          "name": "stdout",
          "text": [
            "2/2 [==============================] - 23s 18s/step - loss: 0.3025 - accuracy: 0.9011\n"
          ]
        },
        {
          "output_type": "execute_result",
          "data": {
            "text/plain": [
              "[0.3025227189064026, 0.901098906993866]"
            ]
          },
          "metadata": {},
          "execution_count": 10
        }
      ],
      "source": [
        "model.evaluate(test_data)"
      ]
    },
    {
      "cell_type": "code",
      "execution_count": null,
      "id": "ff4facfd",
      "metadata": {
        "id": "ff4facfd",
        "colab": {
          "base_uri": "https://localhost:8080/"
        },
        "outputId": "51a77e6b-12ff-4e0a-bc8e-6c996ce44e91"
      },
      "outputs": [
        {
          "output_type": "stream",
          "name": "stdout",
          "text": [
            "2/2 [==============================] - 7s 2s/step\n"
          ]
        }
      ],
      "source": [
        "y_pred = model.predict(test_data)"
      ]
    },
    {
      "cell_type": "code",
      "execution_count": null,
      "id": "eec11d9d",
      "metadata": {
        "id": "eec11d9d",
        "colab": {
          "base_uri": "https://localhost:8080/"
        },
        "outputId": "557382aa-9bbe-48a8-b098-3662168c8f08"
      },
      "outputs": [
        {
          "output_type": "execute_result",
          "data": {
            "text/plain": [
              "array([[4.94374987e-03, 3.69316898e-02, 3.20953255e-08, 1.21141056e-07,\n",
              "        6.42941878e-09, 1.74331526e-05, 9.45410669e-01, 1.26962559e-02],\n",
              "       [8.64476621e-01, 3.57148633e-03, 2.56370306e-02, 5.65477386e-02,\n",
              "        3.10790347e-05, 3.24289710e-03, 1.47032933e-02, 3.17898467e-02],\n",
              "       [4.54381853e-02, 5.16122460e-01, 4.29473259e-03, 8.01651180e-03,\n",
              "        5.73432408e-05, 1.87517494e-01, 1.34108365e-02, 2.25142419e-01],\n",
              "       [5.35587454e-03, 4.11490232e-01, 5.51419891e-03, 1.13277065e-06,\n",
              "        5.77481747e-01, 6.91729065e-06, 2.86348900e-09, 1.49942847e-04],\n",
              "       [6.55232519e-02, 4.88327205e-01, 9.94592207e-04, 3.45336448e-04,\n",
              "        5.18345087e-06, 5.46587147e-02, 1.73002481e-02, 3.72845441e-01],\n",
              "       [3.29103810e-03, 1.54844089e-03, 6.95918174e-03, 9.32323746e-03,\n",
              "        7.71289851e-05, 2.04852238e-01, 7.71034062e-01, 2.91456375e-03],\n",
              "       [4.62014135e-03, 1.78090204e-03, 8.91251769e-03, 9.74439859e-01,\n",
              "        3.39247163e-05, 2.02374929e-03, 2.13170657e-03, 6.05723541e-03],\n",
              "       [2.27492256e-03, 5.84062946e-04, 1.90673745e-06, 6.87188867e-06,\n",
              "        5.98541931e-07, 2.53967172e-03, 9.94459748e-01, 1.32198576e-04],\n",
              "       [2.87497103e-01, 1.28130252e-02, 4.45784599e-01, 2.09499672e-01,\n",
              "        1.42612227e-03, 3.28778359e-03, 1.94437634e-05, 3.96722965e-02],\n",
              "       [1.10707739e-02, 1.77121535e-03, 2.42968908e-05, 1.92107805e-07,\n",
              "        1.07194717e-06, 9.87029850e-01, 9.42511469e-05, 8.33083959e-06],\n",
              "       [2.44002058e-06, 8.83065066e-10, 5.00294894e-14, 2.95928097e-03,\n",
              "        1.08129124e-10, 4.50803235e-08, 2.20653784e-09, 9.97038245e-01],\n",
              "       [1.09578262e-03, 1.03441137e-03, 2.11730227e-02, 1.08368276e-03,\n",
              "        9.75466132e-01, 8.09672856e-05, 1.53502124e-12, 6.60458973e-05],\n",
              "       [1.06497016e-02, 4.15844657e-02, 5.03469527e-01, 2.32876644e-01,\n",
              "        1.87563396e-03, 1.07354604e-01, 3.47992666e-02, 6.73901215e-02],\n",
              "       [3.09718158e-02, 9.49739199e-03, 7.49403983e-02, 4.29138005e-01,\n",
              "        6.20989688e-03, 3.44641581e-02, 3.99420947e-01, 1.53573425e-02],\n",
              "       [2.72120786e-07, 3.61846162e-07, 4.11194749e-03, 5.10501070e-03,\n",
              "        9.90782440e-01, 1.35071208e-12, 4.07010919e-14, 1.08759286e-08],\n",
              "       [4.03911836e-04, 5.75205544e-04, 3.71573842e-05, 9.89653051e-01,\n",
              "        7.84802542e-05, 9.54088577e-08, 6.30729858e-07, 9.25148185e-03],\n",
              "       [1.95550337e-01, 9.37147706e-06, 3.34543288e-02, 3.29915881e-01,\n",
              "        1.51525950e-04, 4.37525123e-01, 3.39198834e-03, 1.48400807e-06],\n",
              "       [2.43485658e-07, 4.27507584e-05, 2.04753503e-09, 1.66386748e-11,\n",
              "        2.16775611e-10, 9.87272680e-01, 1.26843713e-02, 1.07941101e-10],\n",
              "       [9.40160692e-01, 8.87740555e-07, 4.78453003e-02, 1.06514541e-04,\n",
              "        1.89537758e-07, 1.16159189e-02, 2.33378206e-08, 2.70518329e-04],\n",
              "       [2.60689348e-01, 5.24283111e-01, 1.03466827e-02, 4.82740987e-04,\n",
              "        1.23890553e-04, 3.62109253e-03, 1.04542831e-02, 1.89998940e-01],\n",
              "       [3.71700292e-03, 9.88602340e-01, 1.10386347e-03, 3.51981190e-03,\n",
              "        2.16151658e-03, 1.98221333e-05, 1.78661452e-07, 8.75507307e-04],\n",
              "       [1.67239503e-11, 2.50013321e-09, 8.98359984e-04, 7.47680897e-05,\n",
              "        9.99026895e-01, 2.83124548e-16, 1.24871492e-20, 1.63351905e-16],\n",
              "       [5.63761406e-03, 2.01367419e-02, 7.17343688e-01, 1.69819295e-01,\n",
              "        1.10537675e-03, 3.38342376e-02, 5.21175228e-02, 5.44290378e-06],\n",
              "       [4.93616657e-03, 9.75913167e-01, 3.49513226e-04, 6.24467270e-04,\n",
              "        3.11136222e-03, 3.76610784e-03, 6.18307013e-03, 5.11611905e-03],\n",
              "       [6.30899742e-02, 1.11708552e-01, 2.57062495e-01, 2.21726429e-02,\n",
              "        6.34372681e-02, 6.11855090e-03, 4.76314217e-01, 9.62156337e-05],\n",
              "       [2.65028868e-02, 1.19337150e-04, 3.88977263e-04, 1.13503414e-03,\n",
              "        1.49339039e-05, 9.67862546e-01, 3.88254784e-03, 9.37736477e-05],\n",
              "       [6.04127422e-02, 2.14246213e-01, 2.81679463e-02, 7.00133387e-04,\n",
              "        1.75518013e-04, 6.94025457e-01, 1.93227515e-06, 2.27013882e-03],\n",
              "       [1.94869414e-02, 1.46100836e-04, 2.87744362e-04, 9.77217495e-01,\n",
              "        3.07411210e-05, 2.21155700e-03, 5.89737203e-04, 2.96320395e-05],\n",
              "       [2.81595439e-02, 2.32412368e-02, 9.86606930e-04, 4.50485444e-04,\n",
              "        3.14130597e-02, 4.42537397e-01, 1.41007536e-06, 4.73210216e-01],\n",
              "       [3.62013752e-11, 1.55790119e-08, 2.36287899e-03, 1.09129837e-10,\n",
              "        9.97637153e-01, 1.82655523e-11, 1.88810659e-21, 9.55762636e-14],\n",
              "       [3.10511823e-17, 1.70416448e-12, 1.50858992e-10, 4.19968720e-13,\n",
              "        1.00000000e+00, 4.73183863e-22, 2.08434701e-29, 1.69233554e-19],\n",
              "       [6.34223688e-05, 5.14488020e-05, 3.27140465e-03, 9.94917750e-01,\n",
              "        2.35030311e-05, 2.37332119e-04, 8.65428476e-04, 5.69678319e-04],\n",
              "       [1.06900337e-07, 3.55192496e-05, 1.51804459e-04, 2.87591247e-05,\n",
              "        9.99778688e-01, 2.38480607e-11, 2.53861121e-16, 5.08425683e-06],\n",
              "       [1.06594060e-03, 7.06622886e-05, 4.62142285e-03, 1.38728663e-01,\n",
              "        2.02471763e-12, 8.54738355e-01, 5.94176441e-09, 7.74991815e-04],\n",
              "       [7.84140255e-08, 6.70025386e-08, 1.85922289e-09, 1.10945200e-35,\n",
              "        1.34279523e-13, 3.71776056e-03, 5.20946157e-38, 9.96282160e-01],\n",
              "       [1.58189937e-01, 6.49793074e-02, 6.62626505e-01, 5.20922011e-04,\n",
              "        1.09627970e-01, 2.76852777e-04, 1.17141411e-04, 3.66125209e-03],\n",
              "       [4.59058255e-01, 2.25872477e-03, 3.45591754e-02, 4.99180824e-01,\n",
              "        2.18103596e-04, 8.39161930e-06, 1.35254010e-03, 3.36395763e-03],\n",
              "       [8.98414198e-03, 4.24742792e-03, 4.14565839e-02, 1.14120319e-01,\n",
              "        1.49707339e-04, 2.70986836e-02, 9.77068048e-05, 8.03845465e-01],\n",
              "       [1.10029662e-02, 5.73020335e-03, 2.02394780e-02, 9.59114790e-01,\n",
              "        7.78865870e-05, 4.43757062e-06, 6.52395959e-09, 3.83024244e-03],\n",
              "       [1.07958116e-01, 2.96176714e-03, 7.54163116e-02, 8.11216235e-01,\n",
              "        1.45583545e-06, 9.12967778e-04, 1.53295265e-03, 1.86006901e-07],\n",
              "       [2.93029263e-03, 4.30479320e-03, 1.32807111e-03, 4.47459926e-04,\n",
              "        3.63536274e-05, 5.29986946e-03, 9.85604048e-01, 4.91600076e-05],\n",
              "       [2.56741024e-03, 9.78595853e-01, 1.48125582e-06, 2.51132448e-09,\n",
              "        2.10735493e-07, 1.87350996e-02, 6.76978016e-05, 3.21635562e-05],\n",
              "       [1.85074145e-03, 2.09486185e-04, 1.94086856e-03, 2.77536128e-05,\n",
              "        3.03962963e-07, 4.24765386e-02, 9.53296304e-01, 1.98048161e-04],\n",
              "       [6.74732382e-06, 8.75231419e-13, 6.06995745e-05, 4.06628606e-05,\n",
              "        3.16441458e-07, 3.68916091e-07, 1.05410047e-09, 9.99891162e-01],\n",
              "       [1.22155547e-02, 3.16843903e-03, 3.45445727e-03, 8.47610645e-03,\n",
              "        1.00793077e-05, 7.59947225e-02, 8.83795500e-01, 1.28850816e-02],\n",
              "       [6.32202045e-06, 1.19930780e-06, 7.32476823e-04, 1.37594066e-06,\n",
              "        8.37891445e-09, 9.99258459e-01, 3.06738883e-08, 8.21425488e-08],\n",
              "       [2.83066719e-03, 6.71119466e-02, 2.17525048e-05, 1.98504422e-03,\n",
              "        7.82512222e-10, 9.26556170e-01, 9.43938736e-04, 5.50384051e-04],\n",
              "       [2.16437429e-01, 1.07471868e-02, 2.62515433e-02, 5.58927543e-02,\n",
              "        2.01963559e-01, 1.47208748e-02, 1.19095780e-01, 3.54890853e-01],\n",
              "       [5.16459584e-01, 3.83658893e-02, 6.50907606e-02, 7.59646818e-02,\n",
              "        7.38874587e-05, 4.18131314e-02, 3.92188057e-02, 2.23013222e-01],\n",
              "       [3.20565072e-03, 1.85491649e-06, 9.96666849e-01, 2.07010344e-05,\n",
              "        2.62242480e-07, 3.07174050e-05, 6.62189237e-09, 7.40644246e-05],\n",
              "       [4.85703167e-05, 4.83444783e-05, 1.43636046e-02, 9.78811026e-01,\n",
              "        6.71029231e-03, 6.32074432e-07, 1.22812016e-05, 5.26679241e-06],\n",
              "       [4.33135101e-05, 9.98954058e-01, 2.42396592e-08, 7.82289717e-08,\n",
              "        4.96927214e-07, 7.73865206e-04, 2.26769800e-04, 1.29192767e-06],\n",
              "       [9.93719805e-05, 9.60291147e-01, 6.72576789e-05, 4.65214362e-05,\n",
              "        1.09791907e-03, 2.76098028e-04, 1.49288624e-07, 3.81214917e-02],\n",
              "       [3.99736837e-02, 8.62037123e-04, 3.38334055e-03, 9.18709517e-01,\n",
              "        7.56621303e-04, 3.50782499e-02, 3.76075186e-04, 8.60472443e-04],\n",
              "       [1.87159196e-04, 3.71120041e-05, 9.95915592e-01, 3.02961744e-05,\n",
              "        1.45352827e-10, 3.82780167e-03, 5.42910281e-13, 2.02311571e-06],\n",
              "       [9.91691589e-01, 1.63736497e-03, 1.07778411e-03, 3.24293214e-04,\n",
              "        2.13205884e-03, 2.98221619e-03, 1.51892455e-04, 2.79511801e-06],\n",
              "       [2.00491113e-09, 3.18916864e-06, 3.30452691e-04, 2.56863669e-10,\n",
              "        9.99666333e-01, 2.06147978e-13, 4.66070501e-24, 1.14009531e-10],\n",
              "       [5.12580504e-04, 1.86465809e-03, 1.54886628e-02, 3.79371345e-02,\n",
              "        9.44020212e-01, 1.18033006e-06, 1.23891098e-07, 1.75551453e-04],\n",
              "       [2.89779364e-05, 6.49235631e-07, 9.37632012e-06, 1.16872005e-04,\n",
              "        1.20724916e-10, 9.96601820e-01, 3.24024749e-03, 2.03917034e-06],\n",
              "       [8.98069739e-01, 1.89269055e-02, 7.54918857e-03, 5.97470812e-03,\n",
              "        1.20713477e-04, 4.70718481e-02, 6.20950828e-04, 2.16659121e-02],\n",
              "       [4.59971079e-06, 8.19881563e-04, 4.79185283e-02, 1.05943289e-02,\n",
              "        9.40629780e-01, 6.57163355e-07, 1.18725987e-10, 3.22272608e-05],\n",
              "       [2.11990084e-02, 2.81690829e-03, 4.93795753e-01, 8.06796625e-02,\n",
              "        3.35287466e-03, 3.42109203e-01, 5.25914840e-02, 3.45508941e-03],\n",
              "       [1.35744849e-05, 1.69436498e-06, 4.09163913e-04, 9.99542117e-01,\n",
              "        6.44916872e-06, 2.09276732e-05, 4.00771160e-06, 2.15275827e-06],\n",
              "       [2.13254988e-03, 3.21007087e-06, 9.64412868e-01, 1.73183216e-03,\n",
              "        1.56673900e-06, 2.11818929e-06, 3.41517222e-07, 3.17154564e-02],\n",
              "       [2.36075517e-11, 1.51246937e-07, 2.14130250e-05, 1.87601601e-10,\n",
              "        9.99978423e-01, 8.83569713e-15, 7.39488247e-28, 3.71336771e-14],\n",
              "       [9.22257423e-01, 1.29080552e-03, 3.87432054e-03, 4.98598777e-02,\n",
              "        7.62771890e-07, 6.93591405e-03, 4.33963118e-03, 1.14413090e-02],\n",
              "       [2.88921633e-08, 2.83104134e-13, 3.24303401e-05, 9.99967575e-01,\n",
              "        1.54480129e-25, 7.80562004e-11, 4.25800625e-15, 5.81031712e-09],\n",
              "       [1.19136274e-02, 9.87889707e-01, 6.89447521e-09, 2.34554563e-11,\n",
              "        3.62614992e-06, 8.96447018e-05, 5.97557232e-07, 1.02769918e-04],\n",
              "       [2.05917299e-01, 6.36424184e-01, 3.83423083e-02, 8.09067274e-07,\n",
              "        6.06418997e-02, 4.20694239e-02, 1.08376429e-04, 1.64956264e-02],\n",
              "       [7.59030581e-02, 7.06184357e-02, 2.33894363e-02, 1.47375162e-03,\n",
              "        2.61196398e-08, 3.73855919e-01, 2.57328711e-02, 4.29026514e-01],\n",
              "       [6.87620079e-04, 2.05117590e-06, 9.94821787e-01, 4.86036406e-05,\n",
              "        4.36633542e-07, 4.43723472e-03, 4.32356624e-12, 2.34856088e-06],\n",
              "       [2.48321658e-03, 5.86207580e-06, 3.94107541e-03, 9.92377758e-01,\n",
              "        5.69310089e-07, 9.86053725e-04, 8.32201476e-05, 1.22245227e-04],\n",
              "       [3.58639169e-04, 3.38756662e-10, 9.98910904e-01, 1.78295659e-06,\n",
              "        9.48304191e-08, 7.28530751e-04, 4.38015700e-11, 1.58041269e-09],\n",
              "       [3.59954163e-02, 7.50514446e-04, 1.19915947e-01, 8.35954547e-01,\n",
              "        2.51208803e-07, 1.23069389e-03, 3.76745523e-03, 2.38522189e-03],\n",
              "       [1.38475315e-03, 2.68742703e-02, 2.57707666e-06, 1.25875643e-09,\n",
              "        8.26329511e-08, 9.26243007e-01, 4.54743505e-02, 2.08901238e-05],\n",
              "       [2.06304081e-02, 1.59772043e-07, 3.73616094e-05, 9.79188502e-01,\n",
              "        1.35327989e-08, 1.40870853e-08, 2.15254357e-08, 1.43500452e-04],\n",
              "       [2.95416713e-02, 4.88375640e-03, 5.95271995e-04, 6.97479546e-02,\n",
              "        5.59300461e-05, 8.33016448e-03, 2.81216227e-03, 8.84033024e-01],\n",
              "       [5.29042259e-03, 3.42700550e-05, 6.68909488e-05, 1.54273570e-04,\n",
              "        1.07807068e-06, 9.73344982e-01, 5.39275992e-04, 2.05689054e-02],\n",
              "       [7.52529246e-04, 1.83246732e-06, 2.94623878e-02, 9.68582034e-01,\n",
              "        9.58523015e-06, 1.10284099e-03, 6.27160553e-05, 2.61705118e-05],\n",
              "       [7.02935853e-04, 7.03460634e-01, 4.48381725e-05, 3.21285304e-04,\n",
              "        6.03389752e-04, 2.88354158e-01, 2.84123095e-03, 3.67151946e-03],\n",
              "       [1.02120027e-01, 1.82573229e-01, 3.65599133e-02, 1.53040275e-01,\n",
              "        2.14655907e-03, 6.04337566e-02, 3.72980647e-02, 4.25828129e-01],\n",
              "       [2.06454587e-03, 6.31796837e-01, 2.96550125e-01, 8.92699791e-06,\n",
              "        6.95764497e-02, 2.25125132e-06, 1.96801096e-07, 6.65854600e-07],\n",
              "       [9.20695369e-04, 1.56719401e-03, 3.21625109e-08, 1.20412540e-06,\n",
              "        1.64058747e-05, 9.97432053e-01, 2.96857925e-05, 3.27032067e-05],\n",
              "       [4.69277438e-12, 1.80278779e-08, 2.02052921e-04, 6.83223362e-08,\n",
              "        9.99797881e-01, 2.78218923e-17, 7.08510837e-25, 4.57678860e-12],\n",
              "       [2.33959756e-04, 9.99723136e-01, 1.12357224e-09, 1.13268154e-11,\n",
              "        1.20235399e-09, 6.57745841e-06, 4.12358509e-15, 3.63439067e-05],\n",
              "       [1.18463766e-03, 6.63487380e-03, 4.47082102e-01, 9.62894261e-02,\n",
              "        4.48726386e-01, 1.44639216e-07, 3.65739905e-09, 8.24592935e-05],\n",
              "       [1.51187507e-02, 4.49942949e-04, 2.03844626e-02, 9.61204767e-01,\n",
              "        3.46745539e-04, 1.28009880e-03, 3.55258293e-04, 8.59957188e-04],\n",
              "       [3.09470459e-03, 3.68191424e-04, 4.55154449e-01, 4.91133600e-01,\n",
              "        3.05233641e-07, 4.66994196e-03, 4.17388268e-02, 3.83997220e-03],\n",
              "       [2.33872086e-01, 2.57381260e-01, 3.47992219e-02, 3.30177605e-01,\n",
              "        1.52384993e-02, 1.78730842e-02, 7.50893801e-02, 3.55688445e-02],\n",
              "       [6.03705823e-01, 2.77019255e-02, 5.59341200e-02, 6.67526107e-03,\n",
              "        1.33426729e-04, 1.45323286e-02, 5.05965203e-02, 2.40720615e-01],\n",
              "       [9.81379114e-03, 4.22555534e-03, 2.27721594e-03, 7.80488877e-03,\n",
              "        1.57038754e-04, 1.28574237e-01, 8.43637407e-01, 3.50983441e-03]],\n",
              "      dtype=float32)"
            ]
          },
          "metadata": {},
          "execution_count": 12
        }
      ],
      "source": [
        "y_pred"
      ]
    },
    {
      "cell_type": "code",
      "execution_count": null,
      "id": "04c408be",
      "metadata": {
        "id": "04c408be"
      },
      "outputs": [],
      "source": [
        "import numpy as np\n",
        "y_pred = np.argmax(y_pred, axis=1)"
      ]
    },
    {
      "cell_type": "code",
      "execution_count": null,
      "id": "9f1a4700",
      "metadata": {
        "id": "9f1a4700",
        "colab": {
          "base_uri": "https://localhost:8080/"
        },
        "outputId": "27626602-566e-448e-a146-af13ed7ec87c"
      },
      "outputs": [
        {
          "output_type": "execute_result",
          "data": {
            "text/plain": [
              "array([6, 0, 1, 4, 1, 6, 3, 6, 2, 5, 7, 4, 2, 3, 4, 3, 5, 5, 0, 1, 1, 4,\n",
              "       2, 1, 6, 5, 5, 3, 7, 4, 4, 3, 4, 5, 7, 2, 3, 7, 3, 3, 6, 1, 6, 7,\n",
              "       6, 5, 5, 7, 0, 2, 3, 1, 1, 3, 2, 0, 4, 4, 5, 0, 4, 2, 3, 2, 4, 0,\n",
              "       3, 1, 1, 7, 2, 3, 2, 3, 5, 3, 7, 5, 3, 1, 7, 1, 5, 4, 1, 4, 3, 3,\n",
              "       3, 0, 6])"
            ]
          },
          "metadata": {},
          "execution_count": 14
        }
      ],
      "source": [
        "y_pred"
      ]
    },
    {
      "cell_type": "code",
      "execution_count": null,
      "id": "2ca956ff",
      "metadata": {
        "id": "2ca956ff"
      },
      "outputs": [],
      "source": [
        "from tensorflow.keras.models import load_model\n",
        "\n",
        "model.save('model.h5')"
      ]
    },
    {
      "cell_type": "code",
      "execution_count": null,
      "id": "8458390b",
      "metadata": {
        "id": "8458390b",
        "colab": {
          "base_uri": "https://localhost:8080/",
          "height": 328
        },
        "outputId": "b6385d83-defa-4f86-b9e3-1649c14cfcd1"
      },
      "outputs": [
        {
          "output_type": "error",
          "ename": "ValueError",
          "evalue": "ignored",
          "traceback": [
            "\u001b[0;31m---------------------------------------------------------------------------\u001b[0m",
            "\u001b[0;31mValueError\u001b[0m                                Traceback (most recent call last)",
            "\u001b[0;32m<ipython-input-16-88f9104836e4>\u001b[0m in \u001b[0;36m<cell line: 1>\u001b[0;34m()\u001b[0m\n\u001b[0;32m----> 1\u001b[0;31m \u001b[0mmodel\u001b[0m\u001b[0;34m=\u001b[0m\u001b[0mload_model\u001b[0m\u001b[0;34m(\u001b[0m\u001b[0;34m'model.h5'\u001b[0m\u001b[0;34m)\u001b[0m\u001b[0;34m\u001b[0m\u001b[0;34m\u001b[0m\u001b[0m\n\u001b[0m",
            "\u001b[0;32m/usr/local/lib/python3.9/dist-packages/keras/saving/saving_api.py\u001b[0m in \u001b[0;36mload_model\u001b[0;34m(filepath, custom_objects, compile, safe_mode, **kwargs)\u001b[0m\n\u001b[1;32m    210\u001b[0m \u001b[0;34m\u001b[0m\u001b[0m\n\u001b[1;32m    211\u001b[0m     \u001b[0;31m# Legacy case.\u001b[0m\u001b[0;34m\u001b[0m\u001b[0;34m\u001b[0m\u001b[0m\n\u001b[0;32m--> 212\u001b[0;31m     return legacy_sm_saving_lib.load_model(\n\u001b[0m\u001b[1;32m    213\u001b[0m         \u001b[0mfilepath\u001b[0m\u001b[0;34m,\u001b[0m \u001b[0mcustom_objects\u001b[0m\u001b[0;34m=\u001b[0m\u001b[0mcustom_objects\u001b[0m\u001b[0;34m,\u001b[0m \u001b[0mcompile\u001b[0m\u001b[0;34m=\u001b[0m\u001b[0mcompile\u001b[0m\u001b[0;34m,\u001b[0m \u001b[0;34m**\u001b[0m\u001b[0mkwargs\u001b[0m\u001b[0;34m\u001b[0m\u001b[0;34m\u001b[0m\u001b[0m\n\u001b[1;32m    214\u001b[0m     )\n",
            "\u001b[0;32m/usr/local/lib/python3.9/dist-packages/keras/utils/traceback_utils.py\u001b[0m in \u001b[0;36merror_handler\u001b[0;34m(*args, **kwargs)\u001b[0m\n\u001b[1;32m     68\u001b[0m             \u001b[0;31m# To get the full stack trace, call:\u001b[0m\u001b[0;34m\u001b[0m\u001b[0;34m\u001b[0m\u001b[0m\n\u001b[1;32m     69\u001b[0m             \u001b[0;31m# `tf.debugging.disable_traceback_filtering()`\u001b[0m\u001b[0;34m\u001b[0m\u001b[0;34m\u001b[0m\u001b[0m\n\u001b[0;32m---> 70\u001b[0;31m             \u001b[0;32mraise\u001b[0m \u001b[0me\u001b[0m\u001b[0;34m.\u001b[0m\u001b[0mwith_traceback\u001b[0m\u001b[0;34m(\u001b[0m\u001b[0mfiltered_tb\u001b[0m\u001b[0;34m)\u001b[0m \u001b[0;32mfrom\u001b[0m \u001b[0;32mNone\u001b[0m\u001b[0;34m\u001b[0m\u001b[0;34m\u001b[0m\u001b[0m\n\u001b[0m\u001b[1;32m     71\u001b[0m         \u001b[0;32mfinally\u001b[0m\u001b[0;34m:\u001b[0m\u001b[0;34m\u001b[0m\u001b[0;34m\u001b[0m\u001b[0m\n\u001b[1;32m     72\u001b[0m             \u001b[0;32mdel\u001b[0m \u001b[0mfiltered_tb\u001b[0m\u001b[0;34m\u001b[0m\u001b[0;34m\u001b[0m\u001b[0m\n",
            "\u001b[0;32m/usr/local/lib/python3.9/dist-packages/keras/layers/convolutional/base_conv.py\u001b[0m in \u001b[0;36m_get_input_channel\u001b[0;34m(self, input_shape)\u001b[0m\n\u001b[1;32m    414\u001b[0m         \u001b[0mchannel_axis\u001b[0m \u001b[0;34m=\u001b[0m \u001b[0mself\u001b[0m\u001b[0;34m.\u001b[0m\u001b[0m_get_channel_axis\u001b[0m\u001b[0;34m(\u001b[0m\u001b[0;34m)\u001b[0m\u001b[0;34m\u001b[0m\u001b[0;34m\u001b[0m\u001b[0m\n\u001b[1;32m    415\u001b[0m         \u001b[0;32mif\u001b[0m \u001b[0minput_shape\u001b[0m\u001b[0;34m.\u001b[0m\u001b[0mdims\u001b[0m\u001b[0;34m[\u001b[0m\u001b[0mchannel_axis\u001b[0m\u001b[0;34m]\u001b[0m\u001b[0;34m.\u001b[0m\u001b[0mvalue\u001b[0m \u001b[0;32mis\u001b[0m \u001b[0;32mNone\u001b[0m\u001b[0;34m:\u001b[0m\u001b[0;34m\u001b[0m\u001b[0;34m\u001b[0m\u001b[0m\n\u001b[0;32m--> 416\u001b[0;31m             raise ValueError(\n\u001b[0m\u001b[1;32m    417\u001b[0m                 \u001b[0;34m\"The channel dimension of the inputs should be defined. \"\u001b[0m\u001b[0;34m\u001b[0m\u001b[0;34m\u001b[0m\u001b[0m\n\u001b[1;32m    418\u001b[0m                 \u001b[0;34mf\"The input_shape received is {input_shape}, \"\u001b[0m\u001b[0;34m\u001b[0m\u001b[0;34m\u001b[0m\u001b[0m\n",
            "\u001b[0;31mValueError\u001b[0m: The channel dimension of the inputs should be defined. The input_shape received is (None, None, None, None), where axis -1 (0-based) is the channel dimension, which found to be `None`."
          ]
        }
      ],
      "source": []
    },
    {
      "cell_type": "code",
      "execution_count": null,
      "id": "a70584d6",
      "metadata": {
        "id": "a70584d6",
        "colab": {
          "base_uri": "https://localhost:8080/"
        },
        "outputId": "f6d42777-c6f0-4b40-9edf-76c5a66ff7bb"
      },
      "outputs": [
        {
          "output_type": "stream",
          "name": "stderr",
          "text": [
            "WARNING:absl:Found untraced functions such as _jit_compiled_convolution_op, _jit_compiled_convolution_op, _jit_compiled_convolution_op, _jit_compiled_convolution_op, _jit_compiled_convolution_op while saving (showing 5 of 6). These functions will not be directly callable after loading.\n"
          ]
        }
      ],
      "source": [
        "export_dir = '/content/model'\n",
        "tf.saved_model.save(model, export_dir=export_dir)"
      ]
    },
    {
      "cell_type": "code",
      "source": [
        "converter = tf.lite.TFLiteConverter.from_saved_model(\"/content/model\")\n",
        "tflite_model = converter.convert()"
      ],
      "metadata": {
        "id": "hSmE2XtbdBR1"
      },
      "id": "hSmE2XtbdBR1",
      "execution_count": null,
      "outputs": []
    },
    {
      "cell_type": "code",
      "source": [
        "with open('model.tflite', 'wb') as f:\n",
        "  f.write(tflite_model)"
      ],
      "metadata": {
        "id": "YVu4ks0khai2"
      },
      "id": "YVu4ks0khai2",
      "execution_count": null,
      "outputs": []
    },
    {
      "cell_type": "code",
      "source": [],
      "metadata": {
        "id": "2f-LfPvAiXKt"
      },
      "id": "2f-LfPvAiXKt",
      "execution_count": null,
      "outputs": []
    }
  ],
  "metadata": {
    "kernelspec": {
      "display_name": "Python 3 (ipykernel)",
      "language": "python",
      "name": "python3"
    },
    "language_info": {
      "codemirror_mode": {
        "name": "ipython",
        "version": 3
      },
      "file_extension": ".py",
      "mimetype": "text/x-python",
      "name": "python",
      "nbconvert_exporter": "python",
      "pygments_lexer": "ipython3",
      "version": "3.9.16"
    },
    "colab": {
      "provenance": []
    },
    "accelerator": "GPU",
    "gpuClass": "standard"
  },
  "nbformat": 4,
  "nbformat_minor": 5
}